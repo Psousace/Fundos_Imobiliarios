{
  "nbformat": 4,
  "nbformat_minor": 0,
  "metadata": {
    "colab": {
      "provenance": [],
      "authorship_tag": "ABX9TyOa0dPI7Rdy7hXHtBkCpQK0",
      "include_colab_link": true
    },
    "kernelspec": {
      "name": "python3",
      "display_name": "Python 3"
    },
    "language_info": {
      "name": "python"
    }
  },
  "cells": [
    {
      "cell_type": "markdown",
      "metadata": {
        "id": "view-in-github",
        "colab_type": "text"
      },
      "source": [
        "<a href=\"https://colab.research.google.com/github/Psousace/Fundos_Imobiliarios/blob/main/Dividendos_Fiis.ipynb\" target=\"_parent\"><img src=\"https://colab.research.google.com/assets/colab-badge.svg\" alt=\"Open In Colab\"/></a>"
      ]
    },
    {
      "cell_type": "code",
      "source": [
        "import requests\n",
        "from bs4 import BeautifulSoup\n",
        "import pandas as pd\n",
        "import openpyxl\n",
        "\n",
        "class fii:\n",
        "    def __init__(self, ticker):\n",
        "        self.ticker = ticker\n",
        "    def pegar_dividendos_fii(self):\n",
        "        agent = {\"User-Agent\":'Mozilla/5.0 (Windows NT 6.3; WOW64) AppleWebKit/537.36 (KHTML, like Gecko) Chrome/59.0.3071.115 Safari/537.36'}\n",
        "        url = f\"https://www.fundamentus.com.br/fii_proventos.php?papel={self.ticker}&tipo=2\"\n",
        "        webpage = requests.get(url, headers=agent)\n",
        "        soup = BeautifulSoup(webpage.content, \"html.parser\")\n",
        "        resultados = soup.find(id = \"resultado\")\n",
        "        tabela_body = resultados.find(\"tbody\")\n",
        "        linhas = tabela_body.find_all(\"tr\")\n",
        "        data = []\n",
        "        for linha in linhas:\n",
        "            colunas = linha.find_all(\"td\")\n",
        "            colunas = [ele.text.strip() for ele in colunas]\n",
        "            data.append([ele for ele in colunas if ele])\n",
        "        data_output = pd.DataFrame(data, columns=[\"Data_com\", \"rendimento\", \"data_rendimento\", \"valor\"])\n",
        "        data_output['papel'] = self.ticker\n",
        "        # aqui pegaremos sempre o ultimo dividendo disponivel\n",
        "        data_output = data_output.iloc[0]\n",
        "\n",
        "        return data_output\n",
        "\n",
        "def get_dividend(papel):\n",
        "    return fii(papel).pegar_dividendos_fii()\n",
        "\n",
        "# usando map para rodar a funcao para os tickers\n",
        "resultados_map = pd.DataFrame(list(map(get_dividend, ['BLMG11','BRCO11', 'BTLG11','GALG11', 'HGLG11' ,'HLOG11', 'LGCP11', 'LVBI11', 'NEWL11', 'PATL11', 'RBRL11', 'SDIL11', 'XPLG11' ])))\n",
        "\n",
        "# exportando FIIs\n",
        "#resultados_map.to_excel(\"dividendos_fiis.xlsx\")\n",
        "print(resultados_map)"
      ],
      "metadata": {
        "colab": {
          "base_uri": "https://localhost:8080/"
        },
        "id": "tX1agE3LjfZW",
        "outputId": "7edc8a93-48f3-4df2-9bb1-e82a63332101"
      },
      "execution_count": 21,
      "outputs": [
        {
          "output_type": "stream",
          "name": "stdout",
          "text": [
            "     Data_com  rendimento data_rendimento valor   papel\n",
            "0  07/08/2023  Rendimento      14/08/2023  0,70  BLMG11\n",
            "0  31/08/2023  Rendimento      15/09/2023  0,87  BRCO11\n",
            "0  15/08/2023  Rendimento      25/08/2023  0,76  BTLG11\n",
            "0  31/08/2023  Rendimento      08/09/2023  0,08  GALG11\n",
            "0  31/08/2023  Rendimento      15/09/2023  1,10  HGLG11\n",
            "0  31/08/2023  Rendimento      15/09/2023  0,65  HLOG11\n",
            "0  31/08/2023  Rendimento      15/09/2023  0,64  LGCP11\n",
            "0  31/08/2023  Rendimento      08/09/2023  0,79  LVBI11\n",
            "0  31/08/2023  Rendimento      15/09/2023  0,95  NEWL11\n",
            "0  31/08/2023  Rendimento      11/09/2023  0,60  PATL11\n",
            "0  07/08/2023  Rendimento      14/08/2023  0,65  RBRL11\n",
            "0  30/06/2023  Rendimento      14/07/2023  0,83  SDIL11\n",
            "0  31/08/2023  Rendimento      15/09/2023  0,78  XPLG11\n"
          ]
        }
      ]
    },
    {
      "cell_type": "code",
      "source": [],
      "metadata": {
        "id": "oX48C_zQk36K"
      },
      "execution_count": 17,
      "outputs": []
    }
  ]
}