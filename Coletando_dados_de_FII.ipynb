{
  "cells": [
    {
      "cell_type": "markdown",
      "metadata": {
        "id": "view-in-github",
        "colab_type": "text"
      },
      "source": [
        "<a href=\"https://colab.research.google.com/github/Psousace/Fundos_Imobiliarios/blob/main/Coletando_dados_de_FII.ipynb\" target=\"_parent\"><img src=\"https://colab.research.google.com/assets/colab-badge.svg\" alt=\"Open In Colab\"/></a>"
      ]
    },
    {
      "cell_type": "markdown",
      "source": [
        "###Analizando Fundos Imobiliarios\n",
        "##Referencias\n",
        ">Codigo Inicial:edmilson.torres@gmail.com\n",
        "\n",
        ">Adições ao codigo: Stack\n",
        "\n",
        ">Video Stack: https://www.youtube.com/watch?v=hsivPUfjjTU&t=822s"
      ],
      "metadata": {
        "id": "HxvzV-_t23CX"
      }
    },
    {
      "cell_type": "code",
      "execution_count": null,
      "metadata": {
        "id": "iaVn7W_v2qgN"
      },
      "outputs": [],
      "source": [
        "import requests\n",
        "import pandas as pd\n",
        "import numpy as np"
      ]
    },
    {
      "cell_type": "markdown",
      "metadata": {
        "id": "hhec4xjf2qgR"
      },
      "source": [
        "## 1. Definindo cabeçalho da requisição"
      ]
    },
    {
      "cell_type": "code",
      "execution_count": null,
      "metadata": {
        "id": "hQhLMfvP2qgT"
      },
      "outputs": [],
      "source": [
        "headers = {\n",
        "    'authority': 'www.fundsexplorer.com.br',\n",
        "    'accept': 'application/json, text/plain, */*',\n",
        "    'accept-language': 'pt-BR,pt;q=0.5',\n",
        "    'referer': 'https://www.fundsexplorer.com.br/ranking',\n",
        "    'sec-ch-ua': '\"Not/A)Brand\";v=\"99\", \"Brave\";v=\"115\", \"Chromium\";v=\"115\"',\n",
        "    'sec-ch-ua-mobile': '?0',\n",
        "    'sec-ch-ua-platform': '\"Windows\"',\n",
        "    'sec-fetch-dest': 'empty',\n",
        "    'sec-fetch-mode': 'cors',\n",
        "    'sec-fetch-site': 'same-origin',\n",
        "    'sec-gpc': '1',\n",
        "    'user-agent': 'Mozilla/5.0 (Windows NT 10.0; Win64; x64) AppleWebKit/537.36 (KHTML, like Gecko) Chrome/115.0.0.0 Safari/537.36',\n",
        "    'x-funds-nonce': '61495f60b533cc40ad822e054998a3190ea9bca0d94791a1da',\n",
        "}\n",
        "\n",
        "response = requests.get('https://www.fundsexplorer.com.br/wp-json/funds/v1/get-ranking', headers=headers)"
      ]
    },
    {
      "cell_type": "code",
      "execution_count": null,
      "metadata": {
        "id": "RtO0rKWv2qgU"
      },
      "outputs": [],
      "source": [
        "df = pd.read_json(response.json())\n",
        "df"
      ]
    },
    {
      "cell_type": "code",
      "execution_count": null,
      "metadata": {
        "id": "PDuv-RLN2qgV"
      },
      "outputs": [],
      "source": [
        "df.info()"
      ]
    },
    {
      "cell_type": "code",
      "execution_count": null,
      "metadata": {
        "id": "RfzY1N9d2qgW",
        "colab": {
          "base_uri": "https://localhost:8080/",
          "height": 349
        },
        "outputId": "a6b93782-1add-4c72-d704-f2b3ced2f706"
      },
      "outputs": [
        {
          "output_type": "execute_result",
          "data": {
            "text/plain": [
              "           post_id    dividendo        yeld  media_yield_3m  soma_yield_3m  \\\n",
              "count   390.000000   390.000000  390.000000      390.000000     390.000000   \n",
              "mean    401.246154    13.234856    0.922611        1.011545       2.666507   \n",
              "std     480.191394   140.441915    3.301849        3.480096       5.406363   \n",
              "min      47.000000     0.000700    0.000000        0.000000       0.000000   \n",
              "25%     172.250000     0.452725    0.270000        0.406700       1.212500   \n",
              "50%     292.500000     0.775000    0.780000        0.835000       2.485000   \n",
              "75%     405.500000     1.200000    1.017500        1.095850       3.277500   \n",
              "max    2614.000000  2002.089700   62.870000       62.870000      82.610000   \n",
              "\n",
              "       media_yield_6m  soma_yield_6m  media_yield_12m  soma_yield_12m  \\\n",
              "count      390.000000     390.000000       390.000000      390.000000   \n",
              "mean         1.158766       5.959727         1.084927       10.634808   \n",
              "std          3.766013      12.800142         3.404950       15.877507   \n",
              "min          0.000000       0.000000         0.000000        0.000000   \n",
              "25%          0.460850       2.615000         0.521250        5.277500   \n",
              "50%          0.878300       5.230000         0.879600       10.280000   \n",
              "75%          1.134175       6.750000         1.084575       12.627500   \n",
              "max         62.870000     142.240000        62.870000      189.830000   \n",
              "\n",
              "       variacao_cotacao_mes  ...  yield_vpa_6m_sum  yield_vpa_6m  \\\n",
              "count            390.000000  ...        390.000000    390.000000   \n",
              "mean               0.058090  ...          2.677102      0.508996   \n",
              "std                6.065143  ...          2.940723      0.617571   \n",
              "min              -51.196800  ...          0.000000      0.000000   \n",
              "25%               -0.273375  ...          0.000000      0.000000   \n",
              "50%                0.000000  ...          2.549400      0.467200   \n",
              "75%                1.785375  ...          4.672000      0.845350   \n",
              "max               25.000000  ...         25.548000      4.258000   \n",
              "\n",
              "       yield_vpa_12m_sum  yield_vpa_12m         valor    patrimonio  \\\n",
              "count         390.000000     390.000000    390.000000  3.900000e+02   \n",
              "mean            0.438967       0.115562    614.741256  4.464621e+08   \n",
              "std             2.051411       0.493958   6210.844216  7.936819e+08   \n",
              "min             0.000000       0.000000      0.000000 -1.454803e+07   \n",
              "25%             0.000000       0.000000     36.640000  6.243185e+07   \n",
              "50%             0.000000       0.000000     87.560000  1.715496e+08   \n",
              "75%             0.000000       0.000000    103.885000  4.318741e+08   \n",
              "max            15.962400       4.145000  94794.810000  7.984130e+09   \n",
              "\n",
              "               pvp       p_vpa  v_fisica  v_financeira  \n",
              "count   390.000000  390.000000     390.0         390.0  \n",
              "mean      7.311293    0.648726       0.0           0.0  \n",
              "std     103.505381    0.482975       0.0           0.0  \n",
              "min       0.000000    0.000000       0.0           0.0  \n",
              "25%       0.622475    0.000000       0.0           0.0  \n",
              "50%       0.911850    0.848048       0.0           0.0  \n",
              "75%       0.988900    0.983935       0.0           0.0  \n",
              "max    1961.666700    4.808909       0.0           0.0  \n",
              "\n",
              "[8 rows x 33 columns]"
            ],
            "text/html": [
              "\n",
              "  <div id=\"df-d12eb81d-1c83-4c96-8bf7-18bb6ab858e2\" class=\"colab-df-container\">\n",
              "    <div>\n",
              "<style scoped>\n",
              "    .dataframe tbody tr th:only-of-type {\n",
              "        vertical-align: middle;\n",
              "    }\n",
              "\n",
              "    .dataframe tbody tr th {\n",
              "        vertical-align: top;\n",
              "    }\n",
              "\n",
              "    .dataframe thead th {\n",
              "        text-align: right;\n",
              "    }\n",
              "</style>\n",
              "<table border=\"1\" class=\"dataframe\">\n",
              "  <thead>\n",
              "    <tr style=\"text-align: right;\">\n",
              "      <th></th>\n",
              "      <th>post_id</th>\n",
              "      <th>dividendo</th>\n",
              "      <th>yeld</th>\n",
              "      <th>media_yield_3m</th>\n",
              "      <th>soma_yield_3m</th>\n",
              "      <th>media_yield_6m</th>\n",
              "      <th>soma_yield_6m</th>\n",
              "      <th>media_yield_12m</th>\n",
              "      <th>soma_yield_12m</th>\n",
              "      <th>variacao_cotacao_mes</th>\n",
              "      <th>...</th>\n",
              "      <th>yield_vpa_6m_sum</th>\n",
              "      <th>yield_vpa_6m</th>\n",
              "      <th>yield_vpa_12m_sum</th>\n",
              "      <th>yield_vpa_12m</th>\n",
              "      <th>valor</th>\n",
              "      <th>patrimonio</th>\n",
              "      <th>pvp</th>\n",
              "      <th>p_vpa</th>\n",
              "      <th>v_fisica</th>\n",
              "      <th>v_financeira</th>\n",
              "    </tr>\n",
              "  </thead>\n",
              "  <tbody>\n",
              "    <tr>\n",
              "      <th>count</th>\n",
              "      <td>390.000000</td>\n",
              "      <td>390.000000</td>\n",
              "      <td>390.000000</td>\n",
              "      <td>390.000000</td>\n",
              "      <td>390.000000</td>\n",
              "      <td>390.000000</td>\n",
              "      <td>390.000000</td>\n",
              "      <td>390.000000</td>\n",
              "      <td>390.000000</td>\n",
              "      <td>390.000000</td>\n",
              "      <td>...</td>\n",
              "      <td>390.000000</td>\n",
              "      <td>390.000000</td>\n",
              "      <td>390.000000</td>\n",
              "      <td>390.000000</td>\n",
              "      <td>390.000000</td>\n",
              "      <td>3.900000e+02</td>\n",
              "      <td>390.000000</td>\n",
              "      <td>390.000000</td>\n",
              "      <td>390.0</td>\n",
              "      <td>390.0</td>\n",
              "    </tr>\n",
              "    <tr>\n",
              "      <th>mean</th>\n",
              "      <td>401.246154</td>\n",
              "      <td>13.234856</td>\n",
              "      <td>0.922611</td>\n",
              "      <td>1.011545</td>\n",
              "      <td>2.666507</td>\n",
              "      <td>1.158766</td>\n",
              "      <td>5.959727</td>\n",
              "      <td>1.084927</td>\n",
              "      <td>10.634808</td>\n",
              "      <td>0.058090</td>\n",
              "      <td>...</td>\n",
              "      <td>2.677102</td>\n",
              "      <td>0.508996</td>\n",
              "      <td>0.438967</td>\n",
              "      <td>0.115562</td>\n",
              "      <td>614.741256</td>\n",
              "      <td>4.464621e+08</td>\n",
              "      <td>7.311293</td>\n",
              "      <td>0.648726</td>\n",
              "      <td>0.0</td>\n",
              "      <td>0.0</td>\n",
              "    </tr>\n",
              "    <tr>\n",
              "      <th>std</th>\n",
              "      <td>480.191394</td>\n",
              "      <td>140.441915</td>\n",
              "      <td>3.301849</td>\n",
              "      <td>3.480096</td>\n",
              "      <td>5.406363</td>\n",
              "      <td>3.766013</td>\n",
              "      <td>12.800142</td>\n",
              "      <td>3.404950</td>\n",
              "      <td>15.877507</td>\n",
              "      <td>6.065143</td>\n",
              "      <td>...</td>\n",
              "      <td>2.940723</td>\n",
              "      <td>0.617571</td>\n",
              "      <td>2.051411</td>\n",
              "      <td>0.493958</td>\n",
              "      <td>6210.844216</td>\n",
              "      <td>7.936819e+08</td>\n",
              "      <td>103.505381</td>\n",
              "      <td>0.482975</td>\n",
              "      <td>0.0</td>\n",
              "      <td>0.0</td>\n",
              "    </tr>\n",
              "    <tr>\n",
              "      <th>min</th>\n",
              "      <td>47.000000</td>\n",
              "      <td>0.000700</td>\n",
              "      <td>0.000000</td>\n",
              "      <td>0.000000</td>\n",
              "      <td>0.000000</td>\n",
              "      <td>0.000000</td>\n",
              "      <td>0.000000</td>\n",
              "      <td>0.000000</td>\n",
              "      <td>0.000000</td>\n",
              "      <td>-51.196800</td>\n",
              "      <td>...</td>\n",
              "      <td>0.000000</td>\n",
              "      <td>0.000000</td>\n",
              "      <td>0.000000</td>\n",
              "      <td>0.000000</td>\n",
              "      <td>0.000000</td>\n",
              "      <td>-1.454803e+07</td>\n",
              "      <td>0.000000</td>\n",
              "      <td>0.000000</td>\n",
              "      <td>0.0</td>\n",
              "      <td>0.0</td>\n",
              "    </tr>\n",
              "    <tr>\n",
              "      <th>25%</th>\n",
              "      <td>172.250000</td>\n",
              "      <td>0.452725</td>\n",
              "      <td>0.270000</td>\n",
              "      <td>0.406700</td>\n",
              "      <td>1.212500</td>\n",
              "      <td>0.460850</td>\n",
              "      <td>2.615000</td>\n",
              "      <td>0.521250</td>\n",
              "      <td>5.277500</td>\n",
              "      <td>-0.273375</td>\n",
              "      <td>...</td>\n",
              "      <td>0.000000</td>\n",
              "      <td>0.000000</td>\n",
              "      <td>0.000000</td>\n",
              "      <td>0.000000</td>\n",
              "      <td>36.640000</td>\n",
              "      <td>6.243185e+07</td>\n",
              "      <td>0.622475</td>\n",
              "      <td>0.000000</td>\n",
              "      <td>0.0</td>\n",
              "      <td>0.0</td>\n",
              "    </tr>\n",
              "    <tr>\n",
              "      <th>50%</th>\n",
              "      <td>292.500000</td>\n",
              "      <td>0.775000</td>\n",
              "      <td>0.780000</td>\n",
              "      <td>0.835000</td>\n",
              "      <td>2.485000</td>\n",
              "      <td>0.878300</td>\n",
              "      <td>5.230000</td>\n",
              "      <td>0.879600</td>\n",
              "      <td>10.280000</td>\n",
              "      <td>0.000000</td>\n",
              "      <td>...</td>\n",
              "      <td>2.549400</td>\n",
              "      <td>0.467200</td>\n",
              "      <td>0.000000</td>\n",
              "      <td>0.000000</td>\n",
              "      <td>87.560000</td>\n",
              "      <td>1.715496e+08</td>\n",
              "      <td>0.911850</td>\n",
              "      <td>0.848048</td>\n",
              "      <td>0.0</td>\n",
              "      <td>0.0</td>\n",
              "    </tr>\n",
              "    <tr>\n",
              "      <th>75%</th>\n",
              "      <td>405.500000</td>\n",
              "      <td>1.200000</td>\n",
              "      <td>1.017500</td>\n",
              "      <td>1.095850</td>\n",
              "      <td>3.277500</td>\n",
              "      <td>1.134175</td>\n",
              "      <td>6.750000</td>\n",
              "      <td>1.084575</td>\n",
              "      <td>12.627500</td>\n",
              "      <td>1.785375</td>\n",
              "      <td>...</td>\n",
              "      <td>4.672000</td>\n",
              "      <td>0.845350</td>\n",
              "      <td>0.000000</td>\n",
              "      <td>0.000000</td>\n",
              "      <td>103.885000</td>\n",
              "      <td>4.318741e+08</td>\n",
              "      <td>0.988900</td>\n",
              "      <td>0.983935</td>\n",
              "      <td>0.0</td>\n",
              "      <td>0.0</td>\n",
              "    </tr>\n",
              "    <tr>\n",
              "      <th>max</th>\n",
              "      <td>2614.000000</td>\n",
              "      <td>2002.089700</td>\n",
              "      <td>62.870000</td>\n",
              "      <td>62.870000</td>\n",
              "      <td>82.610000</td>\n",
              "      <td>62.870000</td>\n",
              "      <td>142.240000</td>\n",
              "      <td>62.870000</td>\n",
              "      <td>189.830000</td>\n",
              "      <td>25.000000</td>\n",
              "      <td>...</td>\n",
              "      <td>25.548000</td>\n",
              "      <td>4.258000</td>\n",
              "      <td>15.962400</td>\n",
              "      <td>4.145000</td>\n",
              "      <td>94794.810000</td>\n",
              "      <td>7.984130e+09</td>\n",
              "      <td>1961.666700</td>\n",
              "      <td>4.808909</td>\n",
              "      <td>0.0</td>\n",
              "      <td>0.0</td>\n",
              "    </tr>\n",
              "  </tbody>\n",
              "</table>\n",
              "<p>8 rows × 33 columns</p>\n",
              "</div>\n",
              "    <div class=\"colab-df-buttons\">\n",
              "\n",
              "  <div class=\"colab-df-container\">\n",
              "    <button class=\"colab-df-convert\" onclick=\"convertToInteractive('df-d12eb81d-1c83-4c96-8bf7-18bb6ab858e2')\"\n",
              "            title=\"Convert this dataframe to an interactive table.\"\n",
              "            style=\"display:none;\">\n",
              "\n",
              "  <svg xmlns=\"http://www.w3.org/2000/svg\" height=\"24px\" viewBox=\"0 -960 960 960\">\n",
              "    <path d=\"M120-120v-720h720v720H120Zm60-500h600v-160H180v160Zm220 220h160v-160H400v160Zm0 220h160v-160H400v160ZM180-400h160v-160H180v160Zm440 0h160v-160H620v160ZM180-180h160v-160H180v160Zm440 0h160v-160H620v160Z\"/>\n",
              "  </svg>\n",
              "    </button>\n",
              "\n",
              "  <style>\n",
              "    .colab-df-container {\n",
              "      display:flex;\n",
              "      gap: 12px;\n",
              "    }\n",
              "\n",
              "    .colab-df-convert {\n",
              "      background-color: #E8F0FE;\n",
              "      border: none;\n",
              "      border-radius: 50%;\n",
              "      cursor: pointer;\n",
              "      display: none;\n",
              "      fill: #1967D2;\n",
              "      height: 32px;\n",
              "      padding: 0 0 0 0;\n",
              "      width: 32px;\n",
              "    }\n",
              "\n",
              "    .colab-df-convert:hover {\n",
              "      background-color: #E2EBFA;\n",
              "      box-shadow: 0px 1px 2px rgba(60, 64, 67, 0.3), 0px 1px 3px 1px rgba(60, 64, 67, 0.15);\n",
              "      fill: #174EA6;\n",
              "    }\n",
              "\n",
              "    .colab-df-buttons div {\n",
              "      margin-bottom: 4px;\n",
              "    }\n",
              "\n",
              "    [theme=dark] .colab-df-convert {\n",
              "      background-color: #3B4455;\n",
              "      fill: #D2E3FC;\n",
              "    }\n",
              "\n",
              "    [theme=dark] .colab-df-convert:hover {\n",
              "      background-color: #434B5C;\n",
              "      box-shadow: 0px 1px 3px 1px rgba(0, 0, 0, 0.15);\n",
              "      filter: drop-shadow(0px 1px 2px rgba(0, 0, 0, 0.3));\n",
              "      fill: #FFFFFF;\n",
              "    }\n",
              "  </style>\n",
              "\n",
              "    <script>\n",
              "      const buttonEl =\n",
              "        document.querySelector('#df-d12eb81d-1c83-4c96-8bf7-18bb6ab858e2 button.colab-df-convert');\n",
              "      buttonEl.style.display =\n",
              "        google.colab.kernel.accessAllowed ? 'block' : 'none';\n",
              "\n",
              "      async function convertToInteractive(key) {\n",
              "        const element = document.querySelector('#df-d12eb81d-1c83-4c96-8bf7-18bb6ab858e2');\n",
              "        const dataTable =\n",
              "          await google.colab.kernel.invokeFunction('convertToInteractive',\n",
              "                                                    [key], {});\n",
              "        if (!dataTable) return;\n",
              "\n",
              "        const docLinkHtml = 'Like what you see? Visit the ' +\n",
              "          '<a target=\"_blank\" href=https://colab.research.google.com/notebooks/data_table.ipynb>data table notebook</a>'\n",
              "          + ' to learn more about interactive tables.';\n",
              "        element.innerHTML = '';\n",
              "        dataTable['output_type'] = 'display_data';\n",
              "        await google.colab.output.renderOutput(dataTable, element);\n",
              "        const docLink = document.createElement('div');\n",
              "        docLink.innerHTML = docLinkHtml;\n",
              "        element.appendChild(docLink);\n",
              "      }\n",
              "    </script>\n",
              "  </div>\n",
              "\n",
              "\n",
              "<div id=\"df-8f6cdeaa-3253-467e-95bb-ffe9a1a36007\">\n",
              "  <button class=\"colab-df-quickchart\" onclick=\"quickchart('df-8f6cdeaa-3253-467e-95bb-ffe9a1a36007')\"\n",
              "            title=\"Suggest charts.\"\n",
              "            style=\"display:none;\">\n",
              "\n",
              "<svg xmlns=\"http://www.w3.org/2000/svg\" height=\"24px\"viewBox=\"0 0 24 24\"\n",
              "     width=\"24px\">\n",
              "    <g>\n",
              "        <path d=\"M19 3H5c-1.1 0-2 .9-2 2v14c0 1.1.9 2 2 2h14c1.1 0 2-.9 2-2V5c0-1.1-.9-2-2-2zM9 17H7v-7h2v7zm4 0h-2V7h2v10zm4 0h-2v-4h2v4z\"/>\n",
              "    </g>\n",
              "</svg>\n",
              "  </button>\n",
              "\n",
              "<style>\n",
              "  .colab-df-quickchart {\n",
              "    background-color: #E8F0FE;\n",
              "    border: none;\n",
              "    border-radius: 50%;\n",
              "    cursor: pointer;\n",
              "    display: none;\n",
              "    fill: #1967D2;\n",
              "    height: 32px;\n",
              "    padding: 0 0 0 0;\n",
              "    width: 32px;\n",
              "  }\n",
              "\n",
              "  .colab-df-quickchart:hover {\n",
              "    background-color: #E2EBFA;\n",
              "    box-shadow: 0px 1px 2px rgba(60, 64, 67, 0.3), 0px 1px 3px 1px rgba(60, 64, 67, 0.15);\n",
              "    fill: #174EA6;\n",
              "  }\n",
              "\n",
              "  [theme=dark] .colab-df-quickchart {\n",
              "    background-color: #3B4455;\n",
              "    fill: #D2E3FC;\n",
              "  }\n",
              "\n",
              "  [theme=dark] .colab-df-quickchart:hover {\n",
              "    background-color: #434B5C;\n",
              "    box-shadow: 0px 1px 3px 1px rgba(0, 0, 0, 0.15);\n",
              "    filter: drop-shadow(0px 1px 2px rgba(0, 0, 0, 0.3));\n",
              "    fill: #FFFFFF;\n",
              "  }\n",
              "</style>\n",
              "\n",
              "  <script>\n",
              "    async function quickchart(key) {\n",
              "      const charts = await google.colab.kernel.invokeFunction(\n",
              "          'suggestCharts', [key], {});\n",
              "    }\n",
              "    (() => {\n",
              "      let quickchartButtonEl =\n",
              "        document.querySelector('#df-8f6cdeaa-3253-467e-95bb-ffe9a1a36007 button');\n",
              "      quickchartButtonEl.style.display =\n",
              "        google.colab.kernel.accessAllowed ? 'block' : 'none';\n",
              "    })();\n",
              "  </script>\n",
              "</div>\n",
              "    </div>\n",
              "  </div>\n"
            ]
          },
          "metadata": {},
          "execution_count": 63
        }
      ],
      "source": [
        "df.describe()"
      ]
    },
    {
      "cell_type": "code",
      "execution_count": null,
      "metadata": {
        "id": "ECy09XXS2qgW"
      },
      "outputs": [],
      "source": [
        "df['setor'].unique()"
      ]
    },
    {
      "cell_type": "code",
      "execution_count": null,
      "metadata": {
        "id": "3BLFWWrG2qgW"
      },
      "outputs": [],
      "source": [
        "df.columns"
      ]
    },
    {
      "cell_type": "markdown",
      "metadata": {
        "id": "8V_p5D1E2qgX"
      },
      "source": [
        "## 2. Limpeza e Formatação de Dados"
      ]
    },
    {
      "cell_type": "code",
      "execution_count": null,
      "metadata": {
        "id": "M_RPtJIj2qgX"
      },
      "outputs": [],
      "source": [
        "df.isna().sum()"
      ]
    },
    {
      "cell_type": "markdown",
      "metadata": {
        "id": "DYpIS03o2qgX"
      },
      "source": [
        "### Dados categóricos"
      ]
    },
    {
      "cell_type": "code",
      "execution_count": null,
      "metadata": {
        "id": "2EbojeSK2qgX"
      },
      "outputs": [],
      "source": [
        "categorical_columns = ['ticker','setor']"
      ]
    },
    {
      "cell_type": "code",
      "execution_count": null,
      "metadata": {
        "id": "MDcveDND2qgX"
      },
      "outputs": [],
      "source": [
        "idx = df[df['setor'].isna()].index\n",
        "df.drop(idx, inplace=True)"
      ]
    },
    {
      "cell_type": "code",
      "execution_count": null,
      "metadata": {
        "id": "5CUJOC3Y2qgX"
      },
      "outputs": [],
      "source": [
        "df[categorical_columns].isna().sum()"
      ]
    },
    {
      "cell_type": "code",
      "execution_count": null,
      "metadata": {
        "id": "ZZWVP6fU2qgY"
      },
      "outputs": [],
      "source": [
        "df[categorical_columns] = df[categorical_columns].astype('category')"
      ]
    },
    {
      "cell_type": "code",
      "execution_count": null,
      "metadata": {
        "id": "GJz-XLw72qgY"
      },
      "outputs": [],
      "source": [
        "df.info()"
      ]
    },
    {
      "cell_type": "code",
      "execution_count": null,
      "metadata": {
        "id": "W-FimjAm2qgY"
      },
      "outputs": [],
      "source": [
        "df.isna().sum()"
      ]
    },
    {
      "cell_type": "markdown",
      "metadata": {
        "id": "VaHq_wuT2qgY"
      },
      "source": [
        "### Dados Numéricos"
      ]
    },
    {
      "cell_type": "code",
      "execution_count": null,
      "metadata": {
        "id": "CXK0KbyX2qgY"
      },
      "outputs": [],
      "source": [
        "col_floats = list(df.iloc[:,2:].columns)"
      ]
    },
    {
      "cell_type": "code",
      "execution_count": null,
      "metadata": {
        "id": "GCnMlD942qgY"
      },
      "outputs": [],
      "source": [
        "## Dados nulos\n",
        "df[col_floats] = df[col_floats].fillna(value=0)"
      ]
    },
    {
      "cell_type": "code",
      "execution_count": null,
      "metadata": {
        "id": "049hkryE2qgY"
      },
      "outputs": [],
      "source": [
        "df[col_floats]"
      ]
    },
    {
      "cell_type": "code",
      "execution_count": null,
      "metadata": {
        "id": "gLYkng1f2qgZ"
      },
      "outputs": [],
      "source": [
        "df[col_floats].head()"
      ]
    },
    {
      "cell_type": "code",
      "execution_count": null,
      "metadata": {
        "id": "EMxwgME42qgZ"
      },
      "outputs": [],
      "source": [
        "df.info()"
      ]
    },
    {
      "cell_type": "code",
      "execution_count": null,
      "metadata": {
        "id": "mb96esoD2qga"
      },
      "outputs": [],
      "source": [
        "df.head()"
      ]
    },
    {
      "cell_type": "code",
      "execution_count": null,
      "metadata": {
        "id": "4mLsuWDF2qga"
      },
      "outputs": [],
      "source": [
        "df.describe()"
      ]
    },
    {
      "cell_type": "markdown",
      "metadata": {
        "id": "mHKx7uSZ2qga"
      },
      "source": [
        "- Dados de P/VPA tem atributos infinitos e está em uma escala diferente"
      ]
    },
    {
      "cell_type": "code",
      "execution_count": null,
      "metadata": {
        "id": "aG3FrdDU2qga"
      },
      "outputs": [],
      "source": [
        "## Check infinity values pandas\n",
        "df[np.isinf(df[col_floats]).any(1)]"
      ]
    },
    {
      "cell_type": "code",
      "execution_count": null,
      "metadata": {
        "id": "Ysu0Gkat2qga"
      },
      "outputs": [],
      "source": [
        "idx = df[np.isinf(df[col_floats]).any(1)].index\n",
        "df.drop(idx, inplace=True)"
      ]
    },
    {
      "cell_type": "code",
      "execution_count": null,
      "metadata": {
        "id": "CCmq-a4j2qga"
      },
      "outputs": [],
      "source": [
        "df['P/VPA'] = df['P/VPA']/100"
      ]
    },
    {
      "cell_type": "code",
      "execution_count": null,
      "metadata": {
        "id": "__JpIp392qga"
      },
      "outputs": [],
      "source": [
        "df.describe()"
      ]
    },
    {
      "cell_type": "markdown",
      "metadata": {
        "id": "IyiNJzad2qga"
      },
      "source": [
        "### Analisando a média por setor"
      ]
    },
    {
      "cell_type": "code",
      "execution_count": null,
      "metadata": {
        "id": "T6CqM3nV2qga"
      },
      "outputs": [],
      "source": [
        "df.columns"
      ]
    },
    {
      "cell_type": "code",
      "execution_count": null,
      "metadata": {
        "id": "0oK5HIkf2qgb"
      },
      "outputs": [],
      "source": [
        "indicadores = ['Códigodo fundo',\n",
        "               'Setor',\n",
        "               'DY (12M)Acumulado',\n",
        "               'VacânciaFísica',\n",
        "               'VacânciaFinanceira',\n",
        "               'P/VPA',\n",
        "               'QuantidadeAtivos',\n",
        "               'Liquidez Diária']"
      ]
    },
    {
      "cell_type": "code",
      "execution_count": null,
      "metadata": {
        "id": "pEchPqS22qgb"
      },
      "outputs": [],
      "source": [
        "df_aux = df[indicadores]"
      ]
    },
    {
      "cell_type": "code",
      "execution_count": null,
      "metadata": {
        "id": "GUTfqAUs2qgb"
      },
      "outputs": [],
      "source": [
        "df_aux"
      ]
    },
    {
      "cell_type": "code",
      "execution_count": null,
      "metadata": {
        "id": "kebW6HGV2qge"
      },
      "outputs": [],
      "source": [
        "media_setor = df_aux.groupby('Setor').agg(['mean','std'])"
      ]
    },
    {
      "cell_type": "code",
      "execution_count": null,
      "metadata": {
        "id": "jUoG3e_O2qgf"
      },
      "outputs": [],
      "source": [
        "media_setor"
      ]
    },
    {
      "cell_type": "code",
      "execution_count": null,
      "metadata": {
        "id": "3Pl5D_6a2qgg"
      },
      "outputs": [],
      "source": [
        "media_setor.loc['Residencial', ('DY (12M)Acumulado', 'mean')]"
      ]
    },
    {
      "cell_type": "markdown",
      "metadata": {
        "id": "ngFRYJ5E2qgg"
      },
      "source": [
        "### Criando uma função com uma estratégia para oportunidades do mercado"
      ]
    },
    {
      "cell_type": "code",
      "execution_count": null,
      "metadata": {
        "id": "BHukbS_C2qgg"
      },
      "outputs": [],
      "source": [
        "def oportunidade_media_setor(df, setor='Shoppings', label_setor='setor'):\n",
        "\n",
        "    media_setor = df_aux.groupby('setor').agg(['mean','std'])\n",
        "\n",
        "    df_setor = df[df[label_setor].isin([setor])]\n",
        "\n",
        "    filter_ = \\\n",
        "            df_setor['QuantidadeAtivos'] > 5 &\\\n",
        "            df_setor['Liquidez Diária'] > 5000 &\\\n",
        "            df_setor['P/VPA'] < 1.0 &\\\n",
        "            df_setor['DY (12M)Acumulado'] > media_setor.loc[setor, ('DY (12M)Acumulado','mean')]\n",
        "\n",
        "    print('média do setor Yield: {}'.format(media_setor.loc[setor, ('DY (12M)Acumulado','mean')]))\n",
        "    print('média do setor p/VPA: {}'.format(media_setor.loc[setor, ('P/VPA','mean')]))\n",
        "    print('média do setor Ativos: {}'.format(media_setor.loc[setor, ('QuantidadeAtivos','mean')]))\n",
        "\n",
        "    return df_setor[filter_]"
      ]
    },
    {
      "cell_type": "code",
      "execution_count": null,
      "metadata": {
        "scrolled": true,
        "id": "A6v-2YBm2qgh"
      },
      "outputs": [],
      "source": [
        "list(df['setor'].unique())"
      ]
    },
    {
      "cell_type": "code",
      "execution_count": null,
      "metadata": {
        "id": "ugiDXiQ_2qgh"
      },
      "outputs": [],
      "source": [
        "oportunidade = oportunidade_media_setor(df_aux, setor='Logística')\n",
        "oportunidade.sort_values('DY (12M)Acumulado', ascending=False, inplace=True)\n",
        "oportunidade"
      ]
    },
    {
      "cell_type": "code",
      "execution_count": null,
      "metadata": {
        "id": "8ww_1o4K2qgh"
      },
      "outputs": [],
      "source": []
    },
    {
      "cell_type": "code",
      "execution_count": null,
      "metadata": {
        "id": "amvlGWiv2qgh"
      },
      "outputs": [],
      "source": []
    }
  ],
  "metadata": {
    "kernelspec": {
      "display_name": "Python 3",
      "language": "python",
      "name": "python3"
    },
    "language_info": {
      "codemirror_mode": {
        "name": "ipython",
        "version": 3
      },
      "file_extension": ".py",
      "mimetype": "text/x-python",
      "name": "python",
      "nbconvert_exporter": "python",
      "pygments_lexer": "ipython3",
      "version": "3.8.10"
    },
    "colab": {
      "provenance": [],
      "include_colab_link": true
    }
  },
  "nbformat": 4,
  "nbformat_minor": 0
}