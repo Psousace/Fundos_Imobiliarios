{
  "cells": [
    {
      "cell_type": "markdown",
      "metadata": {
        "id": "view-in-github",
        "colab_type": "text"
      },
      "source": [
        "<a href=\"https://colab.research.google.com/github/Psousace/Fundos_Imobiliarios/blob/main/Coletando_dados_de_FII_original.ipynb\" target=\"_parent\"><img src=\"https://colab.research.google.com/assets/colab-badge.svg\" alt=\"Open In Colab\"/></a>"
      ]
    },
    {
      "cell_type": "code",
      "execution_count": null,
      "metadata": {
        "id": "qLVQW9a8gcyF"
      },
      "outputs": [],
      "source": [
        "import requests\n",
        "import pandas as pd\n",
        "import numpy as np"
      ]
    },
    {
      "cell_type": "markdown",
      "metadata": {
        "id": "fCUm-DsSgcyJ"
      },
      "source": [
        "## 1. Definindo cabeçalho da requisição"
      ]
    },
    {
      "cell_type": "code",
      "execution_count": null,
      "metadata": {
        "id": "ULkpp6AegcyK"
      },
      "outputs": [],
      "source": [
        "url = 'https://www.fundsexplorer.com.br/ranking'\n",
        "headers = {\n",
        "    'User-Agent':\n",
        "        'Mozilla/5.0 (Macintosh; Intel Mac OS X 10_11_4) AppleWebKit/537.36'\n",
        "        ' (KHTML, like Gecko) Chrome/51.0.2704.103 Safari/537.36'\n",
        "}\n"
      ]
    },
    {
      "cell_type": "code",
      "execution_count": null,
      "metadata": {
        "id": "cj-Q-ta0gcyL"
      },
      "outputs": [],
      "source": [
        "response = requests.get(url, headers=headers)\n",
        "if response.status_code == 200:\n",
        "    df = pd.read_html(response.content, encoding='utf-8')[0]"
      ]
    },
    {
      "cell_type": "code",
      "execution_count": null,
      "metadata": {
        "id": "K9u0vlHegcyL"
      },
      "outputs": [],
      "source": [
        "df.sort_values('Códigodo fundo', inplace=True)"
      ]
    },
    {
      "cell_type": "code",
      "execution_count": null,
      "metadata": {
        "id": "i_fRpKDLgcyM"
      },
      "outputs": [],
      "source": [
        "df"
      ]
    },
    {
      "cell_type": "code",
      "execution_count": null,
      "metadata": {
        "id": "1GEX53gLgcyM"
      },
      "outputs": [],
      "source": [
        "df.info()"
      ]
    },
    {
      "cell_type": "code",
      "execution_count": null,
      "metadata": {
        "id": "Pnh8LLOKgcyN"
      },
      "outputs": [],
      "source": [
        "df.describe(include='all')"
      ]
    },
    {
      "cell_type": "code",
      "execution_count": null,
      "metadata": {
        "id": "yatAYQM3gcyO"
      },
      "outputs": [],
      "source": [
        "df['Setor'].unique()"
      ]
    },
    {
      "cell_type": "code",
      "execution_count": null,
      "metadata": {
        "id": "qZZPOqFWgcyO"
      },
      "outputs": [],
      "source": [
        "df.columns"
      ]
    },
    {
      "cell_type": "markdown",
      "metadata": {
        "id": "yD6OspY1gcyO"
      },
      "source": [
        "## 2. Limpeza e Formatação de Dados"
      ]
    },
    {
      "cell_type": "code",
      "execution_count": null,
      "metadata": {
        "id": "iSpBrn2EgcyP"
      },
      "outputs": [],
      "source": [
        "df.isna().sum()"
      ]
    },
    {
      "cell_type": "markdown",
      "metadata": {
        "id": "BSfcWGtCgcyP"
      },
      "source": [
        "### Dados categóricos"
      ]
    },
    {
      "cell_type": "code",
      "execution_count": null,
      "metadata": {
        "id": "9nSkWdIKgcyP"
      },
      "outputs": [],
      "source": [
        "categorical_columns = ['Códigodo fundo','Setor']"
      ]
    },
    {
      "cell_type": "code",
      "execution_count": null,
      "metadata": {
        "id": "7eMWxpMxgcyP"
      },
      "outputs": [],
      "source": [
        "idx = df[df['Setor'].isna()].index\n",
        "df.drop(idx, inplace=True)"
      ]
    },
    {
      "cell_type": "code",
      "execution_count": null,
      "metadata": {
        "id": "hzW3HVmrgcyP"
      },
      "outputs": [],
      "source": [
        "df[categorical_columns].isna().sum()"
      ]
    },
    {
      "cell_type": "code",
      "execution_count": null,
      "metadata": {
        "id": "rjMM9jNGgcyP"
      },
      "outputs": [],
      "source": [
        "df[categorical_columns] = df[categorical_columns].astype('category')"
      ]
    },
    {
      "cell_type": "code",
      "execution_count": null,
      "metadata": {
        "id": "PF4b5gHAgcyQ"
      },
      "outputs": [],
      "source": [
        "df.info()"
      ]
    },
    {
      "cell_type": "code",
      "execution_count": null,
      "metadata": {
        "id": "QkUrJCligcyQ"
      },
      "outputs": [],
      "source": [
        "df.isna().sum()"
      ]
    },
    {
      "cell_type": "markdown",
      "metadata": {
        "id": "yD5oWT4BgcyQ"
      },
      "source": [
        "### Dados Numéricos"
      ]
    },
    {
      "cell_type": "code",
      "execution_count": null,
      "metadata": {
        "id": "DZSm6sMcgcyQ"
      },
      "outputs": [],
      "source": [
        "col_floats = list(df.iloc[:,2:-1].columns)"
      ]
    },
    {
      "cell_type": "code",
      "execution_count": null,
      "metadata": {
        "id": "Tdm5G6I_gcyQ"
      },
      "outputs": [],
      "source": [
        "## Dados nulos\n",
        "df[col_floats] = df[col_floats].fillna(value=0)"
      ]
    },
    {
      "cell_type": "code",
      "execution_count": null,
      "metadata": {
        "id": "uAsbuwmZgcyQ"
      },
      "outputs": [],
      "source": [
        "df[col_floats]"
      ]
    },
    {
      "cell_type": "code",
      "execution_count": null,
      "metadata": {
        "id": "vY7lZOXYgcyR"
      },
      "outputs": [],
      "source": [
        "df[col_floats].head()"
      ]
    },
    {
      "cell_type": "code",
      "execution_count": null,
      "metadata": {
        "id": "hIJCC4CYgcyR"
      },
      "outputs": [],
      "source": [
        "df[col_floats] = df[col_floats].applymap(lambda x: str(x).replace('R$', '').replace('.0','').replace('.','').replace('%','').replace(',','.'))"
      ]
    },
    {
      "cell_type": "code",
      "execution_count": null,
      "metadata": {
        "id": "_l66JGClgcyR"
      },
      "outputs": [],
      "source": [
        "df[col_floats] = df[col_floats].astype('float')"
      ]
    },
    {
      "cell_type": "code",
      "execution_count": null,
      "metadata": {
        "id": "KpoQMMIVgcyR"
      },
      "outputs": [],
      "source": [
        "df.info()"
      ]
    },
    {
      "cell_type": "code",
      "execution_count": null,
      "metadata": {
        "id": "JDylUDUAgcyR"
      },
      "outputs": [],
      "source": [
        "df.head()"
      ]
    },
    {
      "cell_type": "code",
      "execution_count": null,
      "metadata": {
        "id": "-MJ3cIXugcyR"
      },
      "outputs": [],
      "source": [
        "df.describe()"
      ]
    },
    {
      "cell_type": "markdown",
      "metadata": {
        "id": "__sfw5w8gcyR"
      },
      "source": [
        "- Dados de P/VPA tem atributos infinitos e está em uma escala diferente"
      ]
    },
    {
      "cell_type": "code",
      "execution_count": null,
      "metadata": {
        "id": "fB_mohUUgcyS"
      },
      "outputs": [],
      "source": [
        "## Check infinity values pandas\n",
        "df[np.isinf(df[col_floats]).any(1)]"
      ]
    },
    {
      "cell_type": "code",
      "execution_count": null,
      "metadata": {
        "id": "gTdOktoGgcyS"
      },
      "outputs": [],
      "source": [
        "idx = df[np.isinf(df[col_floats]).any(1)].index\n",
        "df.drop(idx, inplace=True)"
      ]
    },
    {
      "cell_type": "code",
      "execution_count": null,
      "metadata": {
        "id": "vyEcwgRdgcyS"
      },
      "outputs": [],
      "source": [
        "df['P/VPA'] = df['P/VPA']/100"
      ]
    },
    {
      "cell_type": "code",
      "execution_count": null,
      "metadata": {
        "id": "8HkhG7tBgcyS"
      },
      "outputs": [],
      "source": [
        "df.describe()"
      ]
    },
    {
      "cell_type": "markdown",
      "metadata": {
        "id": "hw0OM4wGgcyS"
      },
      "source": [
        "### Analisando a média por setor"
      ]
    },
    {
      "cell_type": "code",
      "execution_count": null,
      "metadata": {
        "id": "kN5KhfJ1gcyS"
      },
      "outputs": [],
      "source": [
        "df.columns"
      ]
    },
    {
      "cell_type": "code",
      "execution_count": null,
      "metadata": {
        "id": "09acm3O5gcyS"
      },
      "outputs": [],
      "source": [
        "indicadores = ['Códigodo fundo',\n",
        "               'Setor',\n",
        "               'DY (12M)Acumulado',\n",
        "               'VacânciaFísica',\n",
        "               'VacânciaFinanceira',\n",
        "               'P/VPA',\n",
        "               'QuantidadeAtivos',\n",
        "               'Liquidez Diária']"
      ]
    },
    {
      "cell_type": "code",
      "execution_count": null,
      "metadata": {
        "id": "-dCgKb2IgcyS"
      },
      "outputs": [],
      "source": [
        "df_aux = df[indicadores]"
      ]
    },
    {
      "cell_type": "code",
      "execution_count": null,
      "metadata": {
        "id": "CEsSXbKFgcyT"
      },
      "outputs": [],
      "source": [
        "df_aux"
      ]
    },
    {
      "cell_type": "code",
      "execution_count": null,
      "metadata": {
        "id": "ESBHP0IggcyT"
      },
      "outputs": [],
      "source": [
        "media_setor = df_aux.groupby('Setor').agg(['mean','std'])"
      ]
    },
    {
      "cell_type": "code",
      "execution_count": null,
      "metadata": {
        "id": "77IogIE2gcyU"
      },
      "outputs": [],
      "source": [
        "media_setor"
      ]
    },
    {
      "cell_type": "code",
      "execution_count": null,
      "metadata": {
        "id": "UpcQp_HlgcyU"
      },
      "outputs": [],
      "source": [
        "media_setor.loc['Residencial', ('DY (12M)Acumulado', 'mean')]"
      ]
    },
    {
      "cell_type": "markdown",
      "metadata": {
        "id": "5LfMpXkVgcyU"
      },
      "source": [
        "### Criando uma função com uma estratégia para oportunidades do mercado"
      ]
    },
    {
      "cell_type": "code",
      "execution_count": null,
      "metadata": {
        "id": "mguBKXRRgcyU"
      },
      "outputs": [],
      "source": [
        "def oportunidade_media_setor(df, setor='Shoppings', label_setor='Setor'):\n",
        "\n",
        "    media_setor = df_aux.groupby('Setor').agg(['mean','std'])\n",
        "\n",
        "    df_setor = df[df[label_setor].isin([setor])]\n",
        "\n",
        "    filter_ = \\\n",
        "            (df_setor['QuantidadeAtivos'] > 5) &\\\n",
        "            (df_setor['Liquidez Diária'] > 5000) &\\\n",
        "            (df_setor['P/VPA'] < 1.0) &\\\n",
        "            (df_setor['DY (12M)Acumulado'] > media_setor.loc[setor, ('DY (12M)Acumulado','mean')])\n",
        "\n",
        "    print('média do setor Yield: {}'.format(media_setor.loc[setor, ('DY (12M)Acumulado','mean')]))\n",
        "    print('média do setor p/VPA: {}'.format(media_setor.loc[setor, ('P/VPA','mean')]))\n",
        "    print('média do setor Ativos: {}'.format(media_setor.loc[setor, ('QuantidadeAtivos','mean')]))\n",
        "\n",
        "    return df_setor[filter_]"
      ]
    },
    {
      "cell_type": "code",
      "execution_count": null,
      "metadata": {
        "scrolled": true,
        "id": "Gxkfcs_0gcyU"
      },
      "outputs": [],
      "source": [
        "list(df['Setor'].unique())"
      ]
    },
    {
      "cell_type": "code",
      "execution_count": null,
      "metadata": {
        "id": "wE8EOI5CgcyU"
      },
      "outputs": [],
      "source": [
        "oportunidade = oportunidade_media_setor(df_aux, setor='Logística')\n",
        "oportunidade.sort_values('DY (12M)Acumulado', ascending=False, inplace=True)\n",
        "oportunidade"
      ]
    },
    {
      "cell_type": "code",
      "execution_count": null,
      "metadata": {
        "id": "ZJG2AXZKgcyV"
      },
      "outputs": [],
      "source": []
    },
    {
      "cell_type": "code",
      "execution_count": null,
      "metadata": {
        "id": "nvH5FAvBgcyV"
      },
      "outputs": [],
      "source": []
    }
  ],
  "metadata": {
    "kernelspec": {
      "display_name": "Python 3",
      "language": "python",
      "name": "python3"
    },
    "language_info": {
      "codemirror_mode": {
        "name": "ipython",
        "version": 3
      },
      "file_extension": ".py",
      "mimetype": "text/x-python",
      "name": "python",
      "nbconvert_exporter": "python",
      "pygments_lexer": "ipython3",
      "version": "3.8.10"
    },
    "colab": {
      "provenance": [],
      "include_colab_link": true
    }
  },
  "nbformat": 4,
  "nbformat_minor": 0
}