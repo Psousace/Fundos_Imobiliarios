{
  "nbformat": 4,
  "nbformat_minor": 0,
  "metadata": {
    "colab": {
      "provenance": [],
      "include_colab_link": true
    },
    "kernelspec": {
      "name": "python3",
      "display_name": "Python 3"
    },
    "language_info": {
      "name": "python"
    }
  },
  "cells": [
    {
      "cell_type": "markdown",
      "metadata": {
        "id": "view-in-github",
        "colab_type": "text"
      },
      "source": [
        "<a href=\"https://colab.research.google.com/github/Psousace/Fundos_Imobiliarios/blob/main/Original_fundsexplorer_Agosto_23.ipynb\" target=\"_parent\"><img src=\"https://colab.research.google.com/assets/colab-badge.svg\" alt=\"Open In Colab\"/></a>"
      ]
    },
    {
      "cell_type": "code",
      "execution_count": null,
      "metadata": {
        "id": "7RNJ5fzijvfj"
      },
      "outputs": [],
      "source": [
        "import pandas as pd\n",
        "import requests"
      ]
    },
    {
      "cell_type": "code",
      "source": [
        "headers = {\n",
        "    'authority': 'www.fundsexplorer.com.br',\n",
        "    'accept': 'application/json, text/plain, */*',\n",
        "    'accept-language': 'pt-BR,pt;q=0.5',\n",
        "    'referer': 'https://www.fundsexplorer.com.br/ranking',\n",
        "    'sec-ch-ua': '\"Not/A)Brand\";v=\"99\", \"Brave\";v=\"115\", \"Chromium\";v=\"115\"',\n",
        "    'sec-ch-ua-mobile': '?0',\n",
        "    'sec-ch-ua-platform': '\"Windows\"',\n",
        "    'sec-fetch-dest': 'empty',\n",
        "    'sec-fetch-mode': 'cors',\n",
        "    'sec-fetch-site': 'same-origin',\n",
        "    'sec-gpc': '1',\n",
        "    'user-agent': 'Mozilla/5.0 (Windows NT 10.0; Win64; x64) AppleWebKit/537.36 (KHTML, like Gecko) Chrome/115.0.0.0 Safari/537.36',\n",
        "    'x-funds-nonce': '61495f60b533cc40ad822e054998a3190ea9bca0d94791a1da',\n",
        "}\n",
        "\n",
        "response = requests.get('https://www.fundsexplorer.com.br/wp-json/funds/v1/get-ranking', headers=headers)"
      ],
      "metadata": {
        "id": "QyV1km5TmlSH"
      },
      "execution_count": null,
      "outputs": []
    },
    {
      "cell_type": "code",
      "source": [
        "df = pd.read_json(response.json())"
      ],
      "metadata": {
        "id": "__qQLpvRlf2u"
      },
      "execution_count": null,
      "outputs": []
    },
    {
      "cell_type": "code",
      "source": [
        "df.to_csv(\"results.csv\")"
      ],
      "metadata": {
        "id": "LOzcjGL3mSbX"
      },
      "execution_count": null,
      "outputs": []
    }
  ]
}